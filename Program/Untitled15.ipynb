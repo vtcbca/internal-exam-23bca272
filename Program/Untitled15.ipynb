{
 "cells": [
  {
   "cell_type": "markdown",
   "id": "52b79069",
   "metadata": {},
   "source": [
    "###11.  Create table team(tid, country, totalmatch, win,loss). Insert 8 team detail. Create trigger to verify totalmatch is not 0. export data into csv file. Read file using reader object and print record with winning %age."
   ]
  },
  {
   "cell_type": "code",
   "execution_count": 29,
   "id": "3805e9da",
   "metadata": {},
   "outputs": [],
   "source": [
    "import sqlite3 as sq"
   ]
  },
  {
   "cell_type": "code",
   "execution_count": 30,
   "id": "7baf5fe4",
   "metadata": {},
   "outputs": [],
   "source": [
    "con=sq.connect(\"C://7. sqlite3//sport.db\")"
   ]
  },
  {
   "cell_type": "code",
   "execution_count": 31,
   "id": "26beddfb",
   "metadata": {},
   "outputs": [],
   "source": [
    "cur=con.cursor()"
   ]
  },
  {
   "cell_type": "code",
   "execution_count": 32,
   "id": "8df8d687",
   "metadata": {},
   "outputs": [],
   "source": [
    "a=(\"create table if not exists team72(tid primary key,country,totalmatch,win,loss)\")"
   ]
  },
  {
   "cell_type": "code",
   "execution_count": 33,
   "id": "873bdb3f",
   "metadata": {},
   "outputs": [
    {
     "data": {
      "text/plain": [
       "<sqlite3.Cursor at 0x25caee008f0>"
      ]
     },
     "execution_count": 33,
     "metadata": {},
     "output_type": "execute_result"
    }
   ],
   "source": [
    "cur.execute(a)"
   ]
  },
  {
   "cell_type": "code",
   "execution_count": 38,
   "id": "b5f65218",
   "metadata": {},
   "outputs": [
    {
     "data": {
      "text/plain": [
       "<sqlite3.Cursor at 0x25caee008f0>"
      ]
     },
     "execution_count": 38,
     "metadata": {},
     "output_type": "execute_result"
    }
   ],
   "source": [
    "cur.execute(\"create trigger if not exists team07 before insert\\\n",
    "    on team72\\\n",
    "    begin\\\n",
    "        select\\\n",
    "        case\\\n",
    "        when match is not 0 then raise (abort,'match is 0')\\\n",
    "        end;\\\n",
    "end;\")"
   ]
  },
  {
   "cell_type": "code",
   "execution_count": 40,
   "id": "a4957587",
   "metadata": {},
   "outputs": [
    {
     "ename": "OperationalError",
     "evalue": "no such column: match",
     "output_type": "error",
     "traceback": [
      "\u001b[1;31m---------------------------------------------------------------------------\u001b[0m",
      "\u001b[1;31mOperationalError\u001b[0m                          Traceback (most recent call last)",
      "Input \u001b[1;32mIn [40]\u001b[0m, in \u001b[0;36m<cell line: 1>\u001b[1;34m()\u001b[0m\n\u001b[1;32m----> 1\u001b[0m \u001b[43mcur\u001b[49m\u001b[38;5;241;43m.\u001b[39;49m\u001b[43mexecute\u001b[49m\u001b[43m(\u001b[49m\u001b[38;5;124;43m\"\u001b[39;49m\u001b[38;5;124;43minsert into team72 values(1,\u001b[39;49m\u001b[38;5;124;43m'\u001b[39;49m\u001b[38;5;124;43mindia\u001b[39;49m\u001b[38;5;124;43m'\u001b[39;49m\u001b[38;5;124;43m,500,240,260),(2,\u001b[39;49m\u001b[38;5;124;43m'\u001b[39;49m\u001b[38;5;124;43mpakistan\u001b[39;49m\u001b[38;5;124;43m'\u001b[39;49m\u001b[38;5;124;43m,600,400,200),(3,\u001b[39;49m\u001b[38;5;124;43m'\u001b[39;49m\u001b[38;5;124;43msouth afrika\u001b[39;49m\u001b[38;5;124;43m'\u001b[39;49m\u001b[38;5;124;43m,400,250,150),(4,\u001b[39;49m\u001b[38;5;124;43m'\u001b[39;49m\u001b[38;5;124;43maustralia\u001b[39;49m\u001b[38;5;124;43m'\u001b[39;49m\u001b[38;5;124;43m,200,80,120),(5,\u001b[39;49m\u001b[38;5;124;43m'\u001b[39;49m\u001b[38;5;124;43mnewzilend\u001b[39;49m\u001b[38;5;124;43m'\u001b[39;49m\u001b[38;5;124;43m,100,900,100),(6,\u001b[39;49m\u001b[38;5;124;43m'\u001b[39;49m\u001b[38;5;124;43msirilanka\u001b[39;49m\u001b[38;5;124;43m'\u001b[39;49m\u001b[38;5;124;43m,200,120,20),(7,\u001b[39;49m\u001b[38;5;124;43m'\u001b[39;49m\u001b[38;5;124;43mbangladesh\u001b[39;49m\u001b[38;5;124;43m'\u001b[39;49m\u001b[38;5;124;43m,300,170,130),(8,\u001b[39;49m\u001b[38;5;124;43m'\u001b[39;49m\u001b[38;5;124;43mafganisthan\u001b[39;49m\u001b[38;5;124;43m'\u001b[39;49m\u001b[38;5;124;43m,300,150,150)\u001b[39;49m\u001b[38;5;124;43m\"\u001b[39;49m\u001b[43m)\u001b[49m\n",
      "\u001b[1;31mOperationalError\u001b[0m: no such column: match"
     ]
    }
   ],
   "source": [
    "cur.execute(\"insert into team72 values(1,'india',500,240,260),(2,'pakistan',600,400,200),(3,'south afrika',400,250,150),(4,'australia',200,80,120),(5,'newzilend',100,900,100),(6,'sirilanka',200,120,20),(7,'bangladesh',300,170,130),(8,'afganisthan',300,150,150)\")"
   ]
  },
  {
   "cell_type": "code",
   "execution_count": null,
   "id": "47d46145",
   "metadata": {},
   "outputs": [],
   "source": []
  },
  {
   "cell_type": "code",
   "execution_count": null,
   "id": "24ae3203",
   "metadata": {},
   "outputs": [],
   "source": []
  }
 ],
 "metadata": {
  "kernelspec": {
   "display_name": "Python 3 (ipykernel)",
   "language": "python",
   "name": "python3"
  },
  "language_info": {
   "codemirror_mode": {
    "name": "ipython",
    "version": 3
   },
   "file_extension": ".py",
   "mimetype": "text/x-python",
   "name": "python",
   "nbconvert_exporter": "python",
   "pygments_lexer": "ipython3",
   "version": "3.9.12"
  }
 },
 "nbformat": 4,
 "nbformat_minor": 5
}
