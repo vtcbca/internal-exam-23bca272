{
 "cells": [
  {
   "cell_type": "markdown",
   "id": "575ff451-1d2c-4e07-8fc8-6f9bbab4d98d",
   "metadata": {},
   "source": [
    "### [11] Create table team(tid, country, totalmatch, win,loss). Insert 8 team detail.\n",
    "### Create trigger to verify totalmatch is not 0. export data into csv file.\n",
    "### Read file using reader object and print record with winning %age.\n"
   ]
  },
  {
   "cell_type": "code",
   "execution_count": 2,
   "id": "fbbcdd5a-7f51-4356-b3f5-45af7249a648",
   "metadata": {},
   "outputs": [],
   "source": [
    "import sqlite3 as sq\n",
    "import csv"
   ]
  },
  {
   "cell_type": "markdown",
   "id": "811e028c-80e1-471d-8474-253b4169cd76",
   "metadata": {},
   "source": [
    "#### Connect to the database"
   ]
  },
  {
   "cell_type": "code",
   "execution_count": 3,
   "id": "36d73a76-5c2f-45e4-b4d6-15359a324e69",
   "metadata": {},
   "outputs": [],
   "source": [
    "conn = sq.connect(\"D:/sqlite/dbms/cricket.db\")\n",
    "cur = conn.cursor()"
   ]
  },
  {
   "cell_type": "markdown",
   "id": "9e0b787c-356c-413e-afb7-0f31bc3e8a6a",
   "metadata": {},
   "source": [
    "### Create table \"team\""
   ]
  },
  {
   "cell_type": "code",
   "execution_count": 6,
   "id": "9ea9121f-e822-4d08-b4f4-46023b312d70",
   "metadata": {},
   "outputs": [
    {
     "data": {
      "text/plain": [
       "<sqlite3.Cursor at 0x18e83d9bc40>"
      ]
     },
     "execution_count": 6,
     "metadata": {},
     "output_type": "execute_result"
    }
   ],
   "source": [
    "cur.execute('''\n",
    "    CREATE TABLE IF NOT EXISTS team (\n",
    "        tid INTEGER PRIMARY KEY,\n",
    "        country TEXT,\n",
    "        totalmatch INTEGER,\n",
    "        win INTEGER,\n",
    "        loss INTEGER\n",
    "    )\n",
    " ''')"
   ]
  },
  {
   "cell_type": "code",
   "execution_count": 7,
   "id": "88712c1e-1383-463c-beac-170b570e5c71",
   "metadata": {},
   "outputs": [],
   "source": [
    "conn.commit()"
   ]
  },
  {
   "cell_type": "markdown",
   "id": "b73f94d2-847d-4e2a-8aab-c8fe19658e10",
   "metadata": {},
   "source": [
    "### Create trigger \" check_totalmatch\""
   ]
  },
  {
   "cell_type": "code",
   "execution_count": 8,
   "id": "3d864853-6f61-4c30-9de1-1da3001345dd",
   "metadata": {},
   "outputs": [
    {
     "data": {
      "text/plain": [
       "<sqlite3.Cursor at 0x18e83d9bc40>"
      ]
     },
     "execution_count": 8,
     "metadata": {},
     "output_type": "execute_result"
    }
   ],
   "source": [
    "cur.execute('''\n",
    "    CREATE TRIGGER IF NOT EXISTS check_totalmatch\n",
    "    BEFORE INSERT ON team\n",
    "    FOR EACH ROW\n",
    "    BEGIN\n",
    "        SELECT CASE\n",
    "            WHEN NEW.totalmatch <= 0 THEN\n",
    "                RAISE(ABORT, 'Total matches must be greater than 0')\n",
    "        END;\n",
    "    END;\n",
    "''')"
   ]
  },
  {
   "cell_type": "code",
   "execution_count": 9,
   "id": "74c57012-3e17-4c40-8ebc-e448080bfafb",
   "metadata": {},
   "outputs": [],
   "source": [
    "conn.commit()"
   ]
  },
  {
   "cell_type": "markdown",
   "id": "50904a94-f918-4b36-b6c3-d281b48c22f1",
   "metadata": {},
   "source": [
    "### Insert data"
   ]
  },
  {
   "cell_type": "code",
   "execution_count": 10,
   "id": "46d27f5d-6949-4155-a40b-ef768d3ad78f",
   "metadata": {},
   "outputs": [],
   "source": [
    "team_data = [\n",
    "    (1, 'India', 100, 60, 40),\n",
    "    (2, 'Australia', 120, 70, 50),\n",
    "    (3, 'England', 95, 50, 45),\n",
    "    (4, 'Pakistan', 110, 55, 55),\n",
    "    (5, 'South Africa', 90, 60, 30),\n",
    "    (6, 'New Zealand', 85, 45, 40),\n",
    "    (7, 'Sri Lanka', 95, 40, 55),\n",
    "    (8, 'West Indies', 80, 30, 50)\n",
    "]"
   ]
  },
  {
   "cell_type": "markdown",
   "id": "463bcb6e-5ac8-4da8-9317-eb0211ffee26",
   "metadata": {},
   "source": [
    "### Execute the data"
   ]
  },
  {
   "cell_type": "code",
   "execution_count": 11,
   "id": "871cb617-0eae-4138-8630-8051f2ba220e",
   "metadata": {},
   "outputs": [
    {
     "data": {
      "text/plain": [
       "<sqlite3.Cursor at 0x18e83d9bc40>"
      ]
     },
     "execution_count": 11,
     "metadata": {},
     "output_type": "execute_result"
    }
   ],
   "source": [
    "cur.executemany('INSERT INTO team (tid, country, totalmatch, win, loss) VALUES (?, ?, ?, ?, ?)', team_data)"
   ]
  },
  {
   "cell_type": "code",
   "execution_count": 12,
   "id": "e901c05b-0046-4fa1-b154-b42ffc632897",
   "metadata": {},
   "outputs": [],
   "source": [
    "conn.commit()"
   ]
  },
  {
   "cell_type": "code",
   "execution_count": 13,
   "id": "fa155ee3-a499-4e2f-8f8a-52ceab3e3d6f",
   "metadata": {},
   "outputs": [
    {
     "data": {
      "text/plain": [
       "<sqlite3.Cursor at 0x18e83d9bc40>"
      ]
     },
     "execution_count": 13,
     "metadata": {},
     "output_type": "execute_result"
    }
   ],
   "source": [
    "cur.execute('SELECT * FROM team')"
   ]
  },
  {
   "cell_type": "code",
   "execution_count": 14,
   "id": "a23de31b-0448-4ec2-9c8c-bde0000a0956",
   "metadata": {},
   "outputs": [],
   "source": [
    "rows = cur.fetchall()"
   ]
  },
  {
   "cell_type": "markdown",
   "id": "2069e722-aae0-40b1-a527-92ef6126acfe",
   "metadata": {},
   "source": [
    "### Print data"
   ]
  },
  {
   "cell_type": "code",
   "execution_count": 15,
   "id": "0d428e80-02fb-4aa2-98a6-be87a3f64863",
   "metadata": {},
   "outputs": [
    {
     "name": "stdout",
     "output_type": "stream",
     "text": [
      "[(1, 'India', 100, 60, 40), (2, 'Australia', 120, 70, 50), (3, 'England', 95, 50, 45), (4, 'Pakistan', 110, 55, 55), (5, 'South Africa', 90, 60, 30), (6, 'New Zealand', 85, 45, 40), (7, 'Sri Lanka', 95, 40, 55), (8, 'West Indies', 80, 30, 50)]\n"
     ]
    }
   ],
   "source": [
    "print(rows)"
   ]
  },
  {
   "cell_type": "markdown",
   "id": "bb8caa16-54a7-49b4-9081-c7d724980d07",
   "metadata": {},
   "source": [
    "### Export data to a csv file"
   ]
  },
  {
   "cell_type": "code",
   "execution_count": 16,
   "id": "cf978a87-dad5-4b1c-bd59-876cbd144a16",
   "metadata": {},
   "outputs": [],
   "source": [
    "with open(\"D:\\\\sqlite\\\\csv\\\\python1.txt\",\"w\", newline='') as f:\n",
    "    writer = csv.writer(f)\n",
    "    #header\n",
    "    writer.writerow(['tid', 'country', 'totalmatch', 'win', 'loss'])  \n",
    "    writer.writerows(rows)  "
   ]
  },
  {
   "cell_type": "markdown",
   "id": "c486c9fe-4004-42c9-b18c-1a536b1a4bb3",
   "metadata": {},
   "source": [
    "### Read Data from CSV and Calculate Win Percentage"
   ]
  },
  {
   "cell_type": "code",
   "execution_count": 19,
   "id": "9a7b9cb1-ce75-4905-b84f-73a7e5042aef",
   "metadata": {},
   "outputs": [
    {
     "name": "stdout",
     "output_type": "stream",
     "text": [
      "Country         Total Matches   Wins       Losses     Win %     \n",
      "============================================================\n",
      "India           100             60         40         60.00%\n",
      "Australia       120             70         50         58.33%\n",
      "England         95              50         45         52.63%\n",
      "Pakistan        110             55         55         50.00%\n",
      "South Africa    90              60         30         66.67%\n",
      "New Zealand     85              45         40         52.94%\n",
      "Sri Lanka       95              40         55         42.11%\n",
      "West Indies     80              30         50         37.50%\n"
     ]
    }
   ],
   "source": [
    "with open(\"D:\\\\sqlite\\\\csv\\\\python1.txt\",\"r\") as f:\n",
    "    reader = csv.DictReader(f)\n",
    "    print(f\"{'Country':<15} {'Total Matches':<15} {'Wins':<10} {'Losses':<10} {'Win %':<10}\")\n",
    "    print(\"=\"*60)\n",
    "    \n",
    "    for row in reader:\n",
    "        total_matches = int(row['totalmatch'])\n",
    "        wins = int(row['win'])\n",
    "        win_percentage = (wins / total_matches) * 100\n",
    "        print(f\"{row['country']:<15} {total_matches:<15} {wins:<10} {row['loss']:<10} {win_percentage:.2f}%\")"
   ]
  },
  {
   "cell_type": "code",
   "execution_count": null,
   "id": "04626d68-0452-486c-a29c-5d0ee823882f",
   "metadata": {},
   "outputs": [],
   "source": []
  }
 ],
 "metadata": {
  "kernelspec": {
   "display_name": "Python 3 (ipykernel)",
   "language": "python",
   "name": "python3"
  },
  "language_info": {
   "codemirror_mode": {
    "name": "ipython",
    "version": 3
   },
   "file_extension": ".py",
   "mimetype": "text/x-python",
   "name": "python",
   "nbconvert_exporter": "python",
   "pygments_lexer": "ipython3",
   "version": "3.12.3"
  }
 },
 "nbformat": 4,
 "nbformat_minor": 5
}
